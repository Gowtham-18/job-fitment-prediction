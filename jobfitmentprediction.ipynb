{
  "nbformat": 4,
  "nbformat_minor": 0,
  "metadata": {
    "colab": {
      "provenance": []
    },
    "kernelspec": {
      "name": "python3",
      "display_name": "Python 3"
    },
    "language_info": {
      "name": "python"
    }
  },
  "cells": [
    {
      "cell_type": "markdown",
      "source": [
        "## Job Fitment Prediction Model"
      ],
      "metadata": {
        "id": "J9tKkpX7bn3y"
      }
    },
    {
      "cell_type": "markdown",
      "source": [
        "## 1: Setup & Imports"
      ],
      "metadata": {
        "id": "R5jok4o6bcx6"
      }
    },
    {
      "cell_type": "code",
      "execution_count": 1,
      "metadata": {
        "colab": {
          "base_uri": "https://localhost:8080/"
        },
        "id": "XkkwHMB9bYL1",
        "outputId": "f214d73d-1a18-4aee-922b-a7412bc5ffa7"
      },
      "outputs": [
        {
          "output_type": "stream",
          "name": "stderr",
          "text": [
            "[nltk_data] Downloading package stopwords to /root/nltk_data...\n",
            "[nltk_data]   Unzipping corpora/stopwords.zip.\n",
            "[nltk_data] Downloading package punkt to /root/nltk_data...\n",
            "[nltk_data]   Unzipping tokenizers/punkt.zip.\n",
            "[nltk_data] Downloading package wordnet to /root/nltk_data...\n",
            "[nltk_data] Downloading package punkt_tab to /root/nltk_data...\n",
            "[nltk_data]   Unzipping tokenizers/punkt_tab.zip.\n"
          ]
        },
        {
          "output_type": "execute_result",
          "data": {
            "text/plain": [
              "True"
            ]
          },
          "metadata": {},
          "execution_count": 1
        }
      ],
      "source": [
        "# Setup & Imports\n",
        "!pip install kaggle --quiet\n",
        "\n",
        "import pandas as pd\n",
        "import numpy as np\n",
        "import re\n",
        "import nltk\n",
        "from google.colab import files\n",
        "\n",
        "from sklearn.preprocessing       import MultiLabelBinarizer\n",
        "from sklearn.feature_extraction.text import TfidfVectorizer\n",
        "from sklearn.metrics.pairwise      import cosine_similarity\n",
        "from sklearn.model_selection       import train_test_split, StratifiedKFold, cross_val_score\n",
        "from sklearn.linear_model          import LogisticRegression\n",
        "from sklearn.ensemble               import RandomForestClassifier\n",
        "from sklearn.metrics                import classification_report, average_precision_score, ndcg_score\n",
        "\n",
        "from scipy import sparse\n",
        "from sklearn.cluster    import KMeans\n",
        "from sklearn.decomposition import PCA\n",
        "import matplotlib.pyplot as plt\n",
        "\n",
        "# NLTK downloads\n",
        "nltk.download('stopwords')\n",
        "nltk.download('punkt')\n",
        "nltk.download('wordnet')\n",
        "nltk.download('punkt_tab')\n"
      ]
    },
    {
      "cell_type": "markdown",
      "source": [
        "## 2: Data Loading & Basic Cleanup"
      ],
      "metadata": {
        "id": "gOm8belbb-WT"
      }
    },
    {
      "cell_type": "code",
      "source": [
        "files.upload()  # upload your kaggle.json\n",
        "!mkdir -p ~/.kaggle\n",
        "!cp kaggle.json ~/.kaggle/ && chmod 600 ~/.kaggle/kaggle.json\n",
        "\n",
        "# download & unzip\n",
        "!mkdir -p /content/data\n",
        "!kaggle datasets download -d ravindrasinghrana/job-description-dataset -p /content/data\n",
        "!unzip -q /content/data/job-description-dataset.zip -d /content/data\n",
        "\n",
        "# Load a data and inspect\n",
        "df = pd.read_csv('/content/data/job_descriptions.csv', nrows=100000)\n",
        "df.info()\n",
        "print(\"Shape:\", df.shape)\n",
        "print(\"Missing per column:\\n\", df.isnull().mean().sort_values(ascending=False).head(10))\n",
        "print(\"Duplicates:\", df.duplicated(subset=['Job Id']).sum())\n",
        "\n",
        "# Drop duplicates & missing critical text\n",
        "df.drop_duplicates(subset='Job Id', inplace=True)\n",
        "df.dropna(subset=['Job Title','Job Description'], inplace=True)\n",
        "\n",
        "# Impute Company Profile NaNs with empty string\n",
        "print(\"Before imputation, nulls in Company Profile:\", df['Company Profile'].isnull().sum())\n",
        "df.fillna({'Company Profile': ''}, inplace=True)\n",
        "print(\"After imputation, nulls in Company Profile:\", df['Company Profile'].isnull().sum())\n",
        "\n",
        "# Fill small missing Company Profile\n",
        "df.fillna({'Company Profile': ''}, inplace=True)"
      ],
      "metadata": {
        "colab": {
          "base_uri": "https://localhost:8080/",
          "height": 940
        },
        "id": "0OdKefsqb2pG",
        "outputId": "2b0373c4-8c85-425b-f839-be3bd3c435f4"
      },
      "execution_count": 10,
      "outputs": [
        {
          "output_type": "display_data",
          "data": {
            "text/plain": [
              "<IPython.core.display.HTML object>"
            ],
            "text/html": [
              "\n",
              "     <input type=\"file\" id=\"files-1a4c3ce1-048d-45ba-9d8c-d83216abb500\" name=\"files[]\" multiple disabled\n",
              "        style=\"border:none\" />\n",
              "     <output id=\"result-1a4c3ce1-048d-45ba-9d8c-d83216abb500\">\n",
              "      Upload widget is only available when the cell has been executed in the\n",
              "      current browser session. Please rerun this cell to enable.\n",
              "      </output>\n",
              "      <script>// Copyright 2017 Google LLC\n",
              "//\n",
              "// Licensed under the Apache License, Version 2.0 (the \"License\");\n",
              "// you may not use this file except in compliance with the License.\n",
              "// You may obtain a copy of the License at\n",
              "//\n",
              "//      http://www.apache.org/licenses/LICENSE-2.0\n",
              "//\n",
              "// Unless required by applicable law or agreed to in writing, software\n",
              "// distributed under the License is distributed on an \"AS IS\" BASIS,\n",
              "// WITHOUT WARRANTIES OR CONDITIONS OF ANY KIND, either express or implied.\n",
              "// See the License for the specific language governing permissions and\n",
              "// limitations under the License.\n",
              "\n",
              "/**\n",
              " * @fileoverview Helpers for google.colab Python module.\n",
              " */\n",
              "(function(scope) {\n",
              "function span(text, styleAttributes = {}) {\n",
              "  const element = document.createElement('span');\n",
              "  element.textContent = text;\n",
              "  for (const key of Object.keys(styleAttributes)) {\n",
              "    element.style[key] = styleAttributes[key];\n",
              "  }\n",
              "  return element;\n",
              "}\n",
              "\n",
              "// Max number of bytes which will be uploaded at a time.\n",
              "const MAX_PAYLOAD_SIZE = 100 * 1024;\n",
              "\n",
              "function _uploadFiles(inputId, outputId) {\n",
              "  const steps = uploadFilesStep(inputId, outputId);\n",
              "  const outputElement = document.getElementById(outputId);\n",
              "  // Cache steps on the outputElement to make it available for the next call\n",
              "  // to uploadFilesContinue from Python.\n",
              "  outputElement.steps = steps;\n",
              "\n",
              "  return _uploadFilesContinue(outputId);\n",
              "}\n",
              "\n",
              "// This is roughly an async generator (not supported in the browser yet),\n",
              "// where there are multiple asynchronous steps and the Python side is going\n",
              "// to poll for completion of each step.\n",
              "// This uses a Promise to block the python side on completion of each step,\n",
              "// then passes the result of the previous step as the input to the next step.\n",
              "function _uploadFilesContinue(outputId) {\n",
              "  const outputElement = document.getElementById(outputId);\n",
              "  const steps = outputElement.steps;\n",
              "\n",
              "  const next = steps.next(outputElement.lastPromiseValue);\n",
              "  return Promise.resolve(next.value.promise).then((value) => {\n",
              "    // Cache the last promise value to make it available to the next\n",
              "    // step of the generator.\n",
              "    outputElement.lastPromiseValue = value;\n",
              "    return next.value.response;\n",
              "  });\n",
              "}\n",
              "\n",
              "/**\n",
              " * Generator function which is called between each async step of the upload\n",
              " * process.\n",
              " * @param {string} inputId Element ID of the input file picker element.\n",
              " * @param {string} outputId Element ID of the output display.\n",
              " * @return {!Iterable<!Object>} Iterable of next steps.\n",
              " */\n",
              "function* uploadFilesStep(inputId, outputId) {\n",
              "  const inputElement = document.getElementById(inputId);\n",
              "  inputElement.disabled = false;\n",
              "\n",
              "  const outputElement = document.getElementById(outputId);\n",
              "  outputElement.innerHTML = '';\n",
              "\n",
              "  const pickedPromise = new Promise((resolve) => {\n",
              "    inputElement.addEventListener('change', (e) => {\n",
              "      resolve(e.target.files);\n",
              "    });\n",
              "  });\n",
              "\n",
              "  const cancel = document.createElement('button');\n",
              "  inputElement.parentElement.appendChild(cancel);\n",
              "  cancel.textContent = 'Cancel upload';\n",
              "  const cancelPromise = new Promise((resolve) => {\n",
              "    cancel.onclick = () => {\n",
              "      resolve(null);\n",
              "    };\n",
              "  });\n",
              "\n",
              "  // Wait for the user to pick the files.\n",
              "  const files = yield {\n",
              "    promise: Promise.race([pickedPromise, cancelPromise]),\n",
              "    response: {\n",
              "      action: 'starting',\n",
              "    }\n",
              "  };\n",
              "\n",
              "  cancel.remove();\n",
              "\n",
              "  // Disable the input element since further picks are not allowed.\n",
              "  inputElement.disabled = true;\n",
              "\n",
              "  if (!files) {\n",
              "    return {\n",
              "      response: {\n",
              "        action: 'complete',\n",
              "      }\n",
              "    };\n",
              "  }\n",
              "\n",
              "  for (const file of files) {\n",
              "    const li = document.createElement('li');\n",
              "    li.append(span(file.name, {fontWeight: 'bold'}));\n",
              "    li.append(span(\n",
              "        `(${file.type || 'n/a'}) - ${file.size} bytes, ` +\n",
              "        `last modified: ${\n",
              "            file.lastModifiedDate ? file.lastModifiedDate.toLocaleDateString() :\n",
              "                                    'n/a'} - `));\n",
              "    const percent = span('0% done');\n",
              "    li.appendChild(percent);\n",
              "\n",
              "    outputElement.appendChild(li);\n",
              "\n",
              "    const fileDataPromise = new Promise((resolve) => {\n",
              "      const reader = new FileReader();\n",
              "      reader.onload = (e) => {\n",
              "        resolve(e.target.result);\n",
              "      };\n",
              "      reader.readAsArrayBuffer(file);\n",
              "    });\n",
              "    // Wait for the data to be ready.\n",
              "    let fileData = yield {\n",
              "      promise: fileDataPromise,\n",
              "      response: {\n",
              "        action: 'continue',\n",
              "      }\n",
              "    };\n",
              "\n",
              "    // Use a chunked sending to avoid message size limits. See b/62115660.\n",
              "    let position = 0;\n",
              "    do {\n",
              "      const length = Math.min(fileData.byteLength - position, MAX_PAYLOAD_SIZE);\n",
              "      const chunk = new Uint8Array(fileData, position, length);\n",
              "      position += length;\n",
              "\n",
              "      const base64 = btoa(String.fromCharCode.apply(null, chunk));\n",
              "      yield {\n",
              "        response: {\n",
              "          action: 'append',\n",
              "          file: file.name,\n",
              "          data: base64,\n",
              "        },\n",
              "      };\n",
              "\n",
              "      let percentDone = fileData.byteLength === 0 ?\n",
              "          100 :\n",
              "          Math.round((position / fileData.byteLength) * 100);\n",
              "      percent.textContent = `${percentDone}% done`;\n",
              "\n",
              "    } while (position < fileData.byteLength);\n",
              "  }\n",
              "\n",
              "  // All done.\n",
              "  yield {\n",
              "    response: {\n",
              "      action: 'complete',\n",
              "    }\n",
              "  };\n",
              "}\n",
              "\n",
              "scope.google = scope.google || {};\n",
              "scope.google.colab = scope.google.colab || {};\n",
              "scope.google.colab._files = {\n",
              "  _uploadFiles,\n",
              "  _uploadFilesContinue,\n",
              "};\n",
              "})(self);\n",
              "</script> "
            ]
          },
          "metadata": {}
        },
        {
          "output_type": "stream",
          "name": "stdout",
          "text": [
            "Saving kaggle.json to kaggle (1).json\n",
            "Dataset URL: https://www.kaggle.com/datasets/ravindrasinghrana/job-description-dataset\n",
            "License(s): CC0-1.0\n",
            "job-description-dataset.zip: Skipping, found more recently modified local copy (use --force to force download)\n",
            "replace /content/data/job_descriptions.csv? [y]es, [n]o, [A]ll, [N]one, [r]ename: n\n",
            "<class 'pandas.core.frame.DataFrame'>\n",
            "RangeIndex: 100000 entries, 0 to 99999\n",
            "Data columns (total 23 columns):\n",
            " #   Column            Non-Null Count   Dtype  \n",
            "---  ------            --------------   -----  \n",
            " 0   Job Id            100000 non-null  int64  \n",
            " 1   Experience        100000 non-null  object \n",
            " 2   Qualifications    100000 non-null  object \n",
            " 3   Salary Range      100000 non-null  object \n",
            " 4   location          100000 non-null  object \n",
            " 5   Country           100000 non-null  object \n",
            " 6   latitude          100000 non-null  float64\n",
            " 7   longitude         100000 non-null  float64\n",
            " 8   Work Type         100000 non-null  object \n",
            " 9   Company Size      100000 non-null  int64  \n",
            " 10  Job Posting Date  100000 non-null  object \n",
            " 11  Preference        100000 non-null  object \n",
            " 12  Contact Person    100000 non-null  object \n",
            " 13  Contact           100000 non-null  object \n",
            " 14  Job Title         100000 non-null  object \n",
            " 15  Role              100000 non-null  object \n",
            " 16  Job Portal        100000 non-null  object \n",
            " 17  Job Description   100000 non-null  object \n",
            " 18  Benefits          100000 non-null  object \n",
            " 19  skills            100000 non-null  object \n",
            " 20  Responsibilities  100000 non-null  object \n",
            " 21  Company           100000 non-null  object \n",
            " 22  Company Profile   99656 non-null   object \n",
            "dtypes: float64(2), int64(2), object(19)\n",
            "memory usage: 17.5+ MB\n",
            "Shape: (100000, 23)\n",
            "Missing per column:\n",
            " Company Profile    0.00344\n",
            "Experience         0.00000\n",
            "Job Id             0.00000\n",
            "Salary Range       0.00000\n",
            "location           0.00000\n",
            "Country            0.00000\n",
            "Qualifications     0.00000\n",
            "latitude           0.00000\n",
            "longitude          0.00000\n",
            "Company Size       0.00000\n",
            "dtype: float64\n",
            "Duplicates: 0\n",
            "Before imputation, nulls in Company Profile: 344\n",
            "After imputation, nulls in Company Profile: 0\n"
          ]
        }
      ]
    },
    {
      "cell_type": "markdown",
      "source": [
        "## 3: Feature Engineering"
      ],
      "metadata": {
        "id": "VlFw78S1c5O7"
      }
    },
    {
      "cell_type": "code",
      "source": [
        "## Numeric Experience\n",
        "def parse_experience(x):\n",
        "    nums = re.findall(r'\\d+', str(x))\n",
        "    if len(nums)>=2:\n",
        "        return (int(nums[0])+int(nums[1]))/2\n",
        "    elif len(nums)==1:\n",
        "        return int(nums[0])\n",
        "    else:\n",
        "        return np.nan\n",
        "\n",
        "df['Experience_num'] = df['Experience'].apply(parse_experience)\n",
        "df['Experience_num'].fillna(df['Experience_num'].median(), inplace=True)\n",
        "\n",
        "print(\"Experience_num statistics:\")\n",
        "print(df['Experience_num'].describe(), \"\\n\")\n",
        "print(\"Sample Experience → Experience_num mappings:\")\n",
        "print(df[['Experience','Experience_num']].head(), \"\\n\")\n",
        "\n",
        "# Text Cleaning\n",
        "from nltk.corpus import stopwords\n",
        "from nltk.stem       import WordNetLemmatizer\n",
        "\n",
        "stop = set(stopwords.words('english'))\n",
        "lemm = WordNetLemmatizer()\n",
        "\n",
        "def clean_text(txt):\n",
        "    txt = re.sub(r'[^a-z0-9\\s]', ' ', str(txt).lower())\n",
        "    tokens = nltk.word_tokenize(txt)\n",
        "    return \" \".join(lemm.lemmatize(t) for t in tokens if t not in stop and len(t)>2)\n",
        "\n",
        "df['text_features'] = (\n",
        "    df['Job Description'].apply(clean_text) + \" \" +\n",
        "    df['skills'].apply(clean_text) + \" \" +\n",
        "    df['Responsibilities'].apply(clean_text)\n",
        ")\n",
        "\n",
        "print(\"Sample cleaned text_features:\")\n",
        "for i, txt in df['text_features'].head(3).items():\n",
        "    print(f\"- {txt[:100]}…\")\n",
        "print()\n",
        "\n",
        "## Multi-Label Binarization\n",
        "mlb_s = MultiLabelBinarizer()\n",
        "mlb_b = MultiLabelBinarizer()\n",
        "\n",
        "df['skills_list']   = df['skills'].str.split(r',\\s*')\n",
        "df['benefits_list'] = df['Benefits'].str.split(r',\\s*')\n",
        "\n",
        "skills_bin   = pd.DataFrame( mlb_s.fit_transform(df['skills_list']),\n",
        "    columns=[f\"skill_{c}\" for c in mlb_s.classes_], index=df.index)\n",
        "benefits_bin = pd.DataFrame( mlb_b.fit_transform(df['benefits_list']),\n",
        "    columns=[f\"benefit_{c}\" for c in mlb_b.classes_], index=df.index)\n",
        "\n",
        "df = pd.concat([df, skills_bin, benefits_bin], axis=1)\n",
        "\n",
        "print(\"Skills binary matrix shape:\", skills_bin.shape)\n",
        "print(\"Benefits binary matrix shape:\", benefits_bin.shape)\n",
        "print(\"First 5 skill columns:\", skills_bin.columns[:5].tolist())\n",
        "print(\"First 5 benefit columns:\", benefits_bin.columns[:5].tolist(), \"\\n\")\n",
        "\n",
        "## One-Hot Categoricals\n",
        "# Role\n",
        "top_roles = df['Role'].value_counts().nlargest(10).index\n",
        "df['Role_top'] = df['Role'].where(df['Role'].isin(top_roles), 'Other')\n",
        "role_dum = pd.get_dummies(df['Role_top'], prefix='Role')\n",
        "\n",
        "# Work Type\n",
        "work_dum = pd.get_dummies(df['Work Type'], prefix='WorkType')\n",
        "\n",
        "# Location\n",
        "top_locs = df['location'].value_counts().nlargest(20).index\n",
        "df['loc_top'] = df['location'].where(df['location'].isin(top_locs), 'OtherLoc')\n",
        "loc_dum = pd.get_dummies(df['loc_top'], prefix='Loc')\n",
        "\n",
        "# Qualifications\n",
        "top_quals = df['Qualifications'].value_counts().nlargest(20).index\n",
        "df['Qual_top'] = df['Qualifications'].where(df['Qualifications'].isin(top_quals), 'OtherQual')\n",
        "qual_dum = pd.get_dummies(df['Qual_top'], prefix='Qual')\n",
        "\n",
        "# Merge all\n",
        "df = pd.concat([df, role_dum, work_dum, loc_dum, qual_dum], axis=1)\n",
        "\n",
        "print(\"Role dummies shape:\", role_dum.shape)\n",
        "print(\"WorkType dummies shape:\", work_dum.shape)\n",
        "print(\"Location dummies shape:\", loc_dum.shape)\n",
        "print(\"Qualification dummies shape:\", qual_dum.shape)\n",
        "print(\"Sample one-hot columns:\")\n",
        "print(\"  Roles:\", role_dum.columns[:5].tolist())\n",
        "print(\"  WorkType:\", work_dum.columns[:3].tolist())\n",
        "print(\"  Location:\", loc_dum.columns[:3].tolist())\n",
        "print(\"  Quals:\", qual_dum.columns[:3].tolist())"
      ],
      "metadata": {
        "colab": {
          "base_uri": "https://localhost:8080/"
        },
        "id": "ttH8g0WAc545",
        "outputId": "d09dd46e-5227-433a-be4f-31ad7323455c"
      },
      "execution_count": 12,
      "outputs": [
        {
          "output_type": "stream",
          "name": "stderr",
          "text": [
            "<ipython-input-12-946c26cb1681>:12: FutureWarning: A value is trying to be set on a copy of a DataFrame or Series through chained assignment using an inplace method.\n",
            "The behavior will change in pandas 3.0. This inplace method will never work because the intermediate object on which we are setting values always behaves as a copy.\n",
            "\n",
            "For example, when doing 'df[col].method(value, inplace=True)', try using 'df.method({col: value}, inplace=True)' or df[col] = df[col].method(value) instead, to perform the operation inplace on the original object.\n",
            "\n",
            "\n",
            "  df['Experience_num'].fillna(df['Experience_num'].median(), inplace=True)\n"
          ]
        },
        {
          "output_type": "stream",
          "name": "stdout",
          "text": [
            "Experience_num statistics:\n",
            "count    100000.000000\n",
            "mean          7.007255\n",
            "std           1.430037\n",
            "min           4.000000\n",
            "25%           6.000000\n",
            "50%           7.000000\n",
            "75%           8.000000\n",
            "max          10.000000\n",
            "Name: Experience_num, dtype: float64 \n",
            "\n",
            "Sample Experience → Experience_num mappings:\n",
            "      Experience  Experience_num\n",
            "0  5 to 15 Years            10.0\n",
            "1  2 to 12 Years             7.0\n",
            "2  0 to 12 Years             6.0\n",
            "3  4 to 11 Years             7.5\n",
            "4  1 to 12 Years             6.5 \n",
            "\n",
            "Sample cleaned text_features:\n",
            "- social medium manager oversee organization social medium presence create schedule content engage fol…\n",
            "- frontend web developer design implement user interface website ensuring visually appealing user frie…\n",
            "- quality control manager establish enforce quality standard within organization develop quality contr…\n",
            "\n",
            "Skills binary matrix shape: (100000, 542)\n",
            "Benefits binary matrix shape: (100000, 43)\n",
            "First 5 skill columns: ['skill_API design and development RESTful API knowledge Security protocols (OAuth', 'skill_AWS', 'skill_Account management Client relations Marketing strategies Campaign optimization Data analysis Communication skills', 'skill_Account management Client relationship Sales strategy Business development Negotiation skills', 'skill_Account management Customer relationship management Sales and negotiation Business development Client needs analysis']\n",
            "First 5 benefit columns: ['benefit_Bonuses and Incentive Programs', \"benefit_Bonuses and Incentive Programs'}\", 'benefit_Casual Dress Code', \"benefit_Childcare Assistance'}\", 'benefit_Employee Assistance Programs (EAP)'] \n",
            "\n",
            "Role dummies shape: (100000, 11)\n",
            "WorkType dummies shape: (100000, 5)\n",
            "Location dummies shape: (100000, 21)\n",
            "Qualification dummies shape: (100000, 10)\n",
            "Sample one-hot columns:\n",
            "  Roles: ['Role_Customer Success Manager', 'Role_Database Administrator', 'Role_Interaction Designer', 'Role_Network Administrator', 'Role_Other']\n",
            "  WorkType: ['WorkType_Contract', 'WorkType_Full-Time', 'WorkType_Intern']\n",
            "  Location: ['Loc_Abuja', 'Loc_Apia', 'Loc_Bandar Seri Begawan']\n",
            "  Quals: ['Qual_B.Com', 'Qual_B.Tech', 'Qual_BA']\n"
          ]
        }
      ]
    },
    {
      "cell_type": "markdown",
      "source": [
        "## 4: Vectorization & Feature Matrix"
      ],
      "metadata": {
        "id": "TgST9DemdKqN"
      }
    },
    {
      "cell_type": "code",
      "source": [
        "# Text TF-IDF\n",
        "tfidf_desc = TfidfVectorizer(max_features=5000, stop_words='english')\n",
        "X_desc     = tfidf_desc.fit_transform(df['text_features'])\n",
        "print(\"X_desc shape:\", X_desc.shape)\n",
        "\n",
        "tfidf_comp = TfidfVectorizer(max_features=1000, stop_words='english')\n",
        "X_comp     = tfidf_comp.fit_transform(df['Company Profile'])\n",
        "print(\"X_comp shape:\", X_comp.shape)\n",
        "\n",
        "# Numeric & one-hot to sparse\n",
        "X_exp    = sparse.csr_matrix(df['Experience_num'].values.reshape(-1,1))\n",
        "print(\"X_exp shape:\", X_exp.shape)\n",
        "X_role   = sparse.csr_matrix(role_dum.values)\n",
        "print(\"X_role shape:\", X_role.shape)\n",
        "X_work   = sparse.csr_matrix(work_dum.values)\n",
        "print(\"X_work shape:\", X_work.shape)\n",
        "X_loc    = sparse.csr_matrix(loc_dum.values)\n",
        "print(\"X_loc shape:\", X_loc.shape)\n",
        "X_qual   = sparse.csr_matrix(qual_dum.values)\n",
        "print(\"X_qual shape:\", X_qual.shape)\n",
        "X_skills = sparse.csr_matrix(skills_bin.values)\n",
        "print(\"X_skills shape:\", X_skills.shape)\n",
        "X_benef  = sparse.csr_matrix(benefits_bin.values)\n",
        "print(\"X_benef shape:\", X_benef.shape)\n",
        "\n",
        "# Combine\n",
        "X = sparse.hstack([\n",
        "    X_desc, X_comp, X_exp,\n",
        "    X_role, X_work, X_loc, X_qual,\n",
        "    X_skills, X_benef\n",
        "], format='csr')\n",
        "print(\"Combined feature matrix X shape:\", X.shape)\n",
        "\n",
        "# Synthetic labels\n",
        "cand_prof = \"python data analysis machine learning sql\"\n",
        "cand_vec  = tfidf_desc.transform([cand_prof])\n",
        "sim       = cosine_similarity(X_desc, cand_vec).flatten()\n",
        "df['fit'] = (sim > 0.20).astype(int)\n",
        "y         = df['fit'].values\n",
        "print(\"Synthetic fit distribution:\\n\", df['fit'].value_counts())"
      ],
      "metadata": {
        "colab": {
          "base_uri": "https://localhost:8080/"
        },
        "id": "BdOKi1eTdnHI",
        "outputId": "fe2cec7e-8538-41f7-fed3-90c951792f87"
      },
      "execution_count": 14,
      "outputs": [
        {
          "output_type": "stream",
          "name": "stdout",
          "text": [
            "X_desc shape: (100000, 1914)\n",
            "X_comp shape: (100000, 1000)\n",
            "X_exp shape: (100000, 1)\n",
            "X_role shape: (100000, 11)\n",
            "X_work shape: (100000, 5)\n",
            "X_loc shape: (100000, 21)\n",
            "X_qual shape: (100000, 10)\n",
            "X_skills shape: (100000, 542)\n",
            "X_benef shape: (100000, 43)\n",
            "Combined feature matrix X shape: (100000, 3547)\n",
            "Synthetic fit distribution:\n",
            " fit\n",
            "0    97677\n",
            "1     2323\n",
            "Name: count, dtype: int64\n"
          ]
        }
      ]
    },
    {
      "cell_type": "markdown",
      "source": [
        "## 5: Train/Test Split & CV Setup"
      ],
      "metadata": {
        "id": "yhWsK1_6d1a5"
      }
    },
    {
      "cell_type": "code",
      "source": [
        "# 80 - Train, 20 - Test data\n",
        "y = df['fit'].values  # ensure in memory\n",
        "X_train, X_test, y_train, y_test = train_test_split(\n",
        "    X, y, test_size=0.2, stratify=y, random_state=42\n",
        ")\n",
        "print(\"Train shape:\", X_train.shape, \"Test shape:\", X_test.shape)\n",
        "print(\"Train class distribution:\\n\", pd.Series(y_train).value_counts(normalize=True))\n",
        "print(\"Test class distribution:\\n\", pd.Series(y_test).value_counts(normalize=True))\n",
        "\n",
        "kf = StratifiedKFold(n_splits=5, shuffle=True, random_state=42)\n",
        "print(\"Initialized StratifiedKFold with 5 splits\")"
      ],
      "metadata": {
        "colab": {
          "base_uri": "https://localhost:8080/"
        },
        "id": "nz5KNCJMd2qB",
        "outputId": "9289479b-be9f-466e-9db6-9145d6c1a677"
      },
      "execution_count": 15,
      "outputs": [
        {
          "output_type": "stream",
          "name": "stdout",
          "text": [
            "Train shape: (80000, 3547) Test shape: (20000, 3547)\n",
            "Train class distribution:\n",
            " 0    0.976775\n",
            "1    0.023225\n",
            "Name: proportion, dtype: float64\n",
            "Test class distribution:\n",
            " 0    0.97675\n",
            "1    0.02325\n",
            "Name: proportion, dtype: float64\n",
            "Initialized StratifiedKFold with 5 splits\n"
          ]
        }
      ]
    },
    {
      "cell_type": "markdown",
      "source": [
        "## 6: Content-Based Evaluation"
      ],
      "metadata": {
        "id": "bT957yboeGCp"
      }
    },
    {
      "cell_type": "code",
      "source": [
        "# Top-N Accuracy\n",
        "def top_n_acc(y_true, scores, N):\n",
        "    idx = np.argsort(scores)[-N:][::-1]\n",
        "    return (y_true[idx].sum() > 0).astype(int)\n",
        "\n",
        "print(\"Top-1 Acc:\", top_n_acc(y, sim, 1))\n",
        "print(\"Top-5 Acc:\", top_n_acc(y, sim, 5))\n",
        "print(\"Top-10 Acc:\", top_n_acc(y, sim, 10))\n",
        "\n",
        "# MAP & NDCG\n",
        "print(\"MAP:\", average_precision_score(y, sim))\n",
        "print(\"NDCG:\", ndcg_score([y], [sim]))\n"
      ],
      "metadata": {
        "colab": {
          "base_uri": "https://localhost:8080/"
        },
        "id": "P-xYYmrIeGYd",
        "outputId": "9d83b82f-cf62-46fe-85e7-f3e8b43e0671"
      },
      "execution_count": 16,
      "outputs": [
        {
          "output_type": "stream",
          "name": "stdout",
          "text": [
            "Top-1 Acc: 1\n",
            "Top-5 Acc: 1\n",
            "Top-10 Acc: 1\n",
            "MAP: 0.9999999999999999\n",
            "NDCG: 0.9999999999999989\n"
          ]
        }
      ]
    },
    {
      "cell_type": "markdown",
      "source": [
        "## 7: Supervised Models & Metrics"
      ],
      "metadata": {
        "id": "ZWj3aMrFeL-S"
      }
    },
    {
      "cell_type": "code",
      "source": [
        "# Logistic Regression\n",
        "lr = LogisticRegression(max_iter=1000, random_state=42)\n",
        "lr.fit(X_train, y_train)\n",
        "y_pred_lr = lr.predict(X_test)\n",
        "print(\"=== Logistic Regression ===\")\n",
        "print(classification_report(y_test, y_pred_lr))\n",
        "\n",
        "# Random Forest\n",
        "rf = RandomForestClassifier(n_estimators=100, max_depth=10, random_state=42, n_jobs=-1)\n",
        "rf.fit(X_train, y_train)\n",
        "y_pred_rf = rf.predict(X_test)\n",
        "print(\"=== Random Forest ===\")\n",
        "print(classification_report(y_test, y_pred_rf))\n",
        "\n",
        "# 5-Fold CV F1\n",
        "print(\"LR CV F1:\", cross_val_score(lr, X, y, cv=kf, scoring='f1').mean())\n",
        "print(\"RF CV F1:\", cross_val_score(rf, X, y, cv=kf, scoring='f1').mean())\n"
      ],
      "metadata": {
        "colab": {
          "base_uri": "https://localhost:8080/"
        },
        "id": "NRZ5FdqoeMUN",
        "outputId": "c38f04fa-00b5-4ed7-87d0-121bcb998853"
      },
      "execution_count": 7,
      "outputs": [
        {
          "output_type": "stream",
          "name": "stdout",
          "text": [
            "=== Logistic Regression ===\n",
            "              precision    recall  f1-score   support\n",
            "\n",
            "           0       1.00      1.00      1.00     19535\n",
            "           1       1.00      1.00      1.00       465\n",
            "\n",
            "    accuracy                           1.00     20000\n",
            "   macro avg       1.00      1.00      1.00     20000\n",
            "weighted avg       1.00      1.00      1.00     20000\n",
            "\n",
            "=== Random Forest ===\n",
            "              precision    recall  f1-score   support\n",
            "\n",
            "           0       1.00      1.00      1.00     19535\n",
            "           1       1.00      1.00      1.00       465\n",
            "\n",
            "    accuracy                           1.00     20000\n",
            "   macro avg       1.00      1.00      1.00     20000\n",
            "weighted avg       1.00      1.00      1.00     20000\n",
            "\n",
            "LR CV F1: 1.0\n",
            "RF CV F1: 1.0\n"
          ]
        }
      ]
    },
    {
      "cell_type": "markdown",
      "source": [
        "## 8: Clustering & Visualization"
      ],
      "metadata": {
        "id": "N27k2v3deTpY"
      }
    },
    {
      "cell_type": "code",
      "source": [
        "# kmeans clustering\n",
        "kmeans = KMeans(n_clusters=10, random_state=42).fit(X_desc)\n",
        "df['cluster'] = kmeans.labels_\n",
        "\n",
        "# PCA for plotting\n",
        "idx = np.random.choice(X_desc.shape[0], 5000, replace=False)\n",
        "X2 = PCA(2, random_state=42).fit_transform(X_desc[idx].toarray())\n",
        "plt.figure(figsize=(8,6))\n",
        "plt.scatter(X2[:,0], X2[:,1], c=df['cluster'].iloc[idx], alpha=0.5, cmap='tab10')\n",
        "plt.title(\"Job Clusters\"); plt.xlabel(\"PC1\"); plt.ylabel(\"PC2\"); plt.show()\n"
      ],
      "metadata": {
        "colab": {
          "base_uri": "https://localhost:8080/",
          "height": 564
        },
        "id": "FAzPyxmQeT8k",
        "outputId": "e18c83a7-a729-4035-947d-7efc8354e98b"
      },
      "execution_count": 8,
      "outputs": [
        {
          "output_type": "display_data",
          "data": {
            "text/plain": [
              "<Figure size 800x600 with 1 Axes>"
            ],
            "image/png": "[encoded data removed]"
          },
          "metadata": {}
        }
      ]
    },
    {
      "cell_type": "markdown",
      "source": [
        "## 9: Candidate Input & Outputs"
      ],
      "metadata": {
        "id": "5_x_risseZl9"
      }
    },
    {
      "cell_type": "code",
      "source": [
        "# Input\n",
        "candidate_input = input(\"Candidate profile: \")\n",
        "cand_clean     = clean_text(candidate_input)\n",
        "cand_vec       = tfidf_desc.transform([cand_clean])\n",
        "\n",
        "# Content-Based Recommendations\n",
        "scores = cosine_similarity(X_desc, cand_vec).flatten()\n",
        "top_idx = np.argsort(scores)[-10:][::-1]\n",
        "print(\"Top 10 Jobs:\\n\", df.iloc[top_idx][['Job Title','Company','location']])\n",
        "\n",
        "# Fit flags\n",
        "df['fit_flag'] = (scores > 0.20).astype(int)\n",
        "print(\"Jobs flagged fit:\", df['fit_flag'].sum())\n",
        "\n",
        "# Cluster assignment\n",
        "cand_cluster = kmeans.predict(cand_vec)[0]\n",
        "print(\"Candidate assigned to cluster:\", cand_cluster)"
      ],
      "metadata": {
        "colab": {
          "base_uri": "https://localhost:8080/"
        },
        "id": "PBU3DvrBeZ_d",
        "outputId": "303ab1ce-4167-4a6b-a9f2-05db9bab9945"
      },
      "execution_count": 9,
      "outputs": [
        {
          "output_type": "stream",
          "name": "stdout",
          "text": [
            "Candidate profile: Java, C++. 2 years experience\n",
            "Top 10 Jobs:\n",
            "             Job Title                   Company                   location\n",
            "32775  Java Developer           Sonoco Products                     Harare\n",
            "3714   Java Developer             General Mills                     Kigali\n",
            "84085  Java Developer   Berkeley Group Holdings             Port-au-Prince\n",
            "62946  Java Developer  Air Products & Chemicals                       Oslo\n",
            "91237  Java Developer          Jacobs Solutions                      Praia\n",
            "7321   Java Developer  Glenmark Pharmaceuticals                  Islamabad\n",
            "84843  Java Developer   Sirius XM Holdings Inc.                 Willemstad\n",
            "29919  Java Developer                       XPO  Sri Jayawardenepura Kotte\n",
            "36510  Java Developer              Henry Schein                   Pristina\n",
            "47048  Java Developer                      Nike  Kyiv (also known as Kiev)\n",
            "Jobs flagged fit: 607\n",
            "Candidate assigned to cluster: 9\n"
          ]
        }
      ]
    }
  ]
}